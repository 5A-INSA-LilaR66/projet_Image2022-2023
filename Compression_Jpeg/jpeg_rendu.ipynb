{
 "cells": [
  {
   "cell_type": "markdown",
   "metadata": {},
   "source": [
    "# Jpeg Compression\n",
    "## Image 5 GMM\n",
    "### Lauriane Kiersnowski, Anaïs Chibani, Flavie Kolb"
   ]
  },
  {
   "cell_type": "code",
   "execution_count": null,
   "metadata": {},
   "outputs": [],
   "source": [
    "# Importation des librairies\n",
    "import numpy as np\n",
    "import holoviews as hv\n",
    "from PIL import Image\n",
    "import panel as pn\n",
    "import cv2\n",
    "import plotly.express as px\n",
    "import matplotlib.pyplot as plt\n",
    "from scipy import fft\n",
    "from skimage.color import rgb2ycbcr,ycbcr2rgb\n",
    "from scipy.fft import dctn, idctn\n",
    "\n",
    "import huffman\n",
    "from collections import Counter\n",
    "#import scipy.misc\n",
    "#from skimage import  color,  morphology\n",
    "import time"
   ]
  },
  {
   "cell_type": "code",
   "execution_count": null,
   "metadata": {},
   "outputs": [],
   "source": [
    "'''!python -m pip install -U scikit-image\n",
    "!pip install huffman'''"
   ]
  },
  {
   "cell_type": "code",
   "execution_count": null,
   "metadata": {},
   "outputs": [],
   "source": [
    "# utile pour Codage de Huffman\n",
    "runBits=1 \n",
    "bitBits=3\n",
    "rbBits=runBits+bitBits ##(run,bitSize of coefficient)\n",
    "#useHuffman=True #modify it if you want\n",
    "#quantizationRatio=1 #modify it if you want, quantization table=default quantization table * quantizationRatio"
   ]
  },
  {
   "cell_type": "markdown",
   "metadata": {
    "colab_type": "text",
    "id": "DFijrOEswf9q"
   },
   "source": [
    "# 1. Importation et changement de base colorimétrique"
   ]
  },
  {
   "cell_type": "markdown",
   "metadata": {
    "colab_type": "text",
    "id": "AYa15U_IfWS0"
   },
   "source": [
    "## 1.1. Ouverture de l'image"
   ]
  },
  {
   "cell_type": "code",
   "execution_count": null,
   "metadata": {
    "colab": {
     "base_uri": "https://localhost:8080/",
     "height": 905
    },
    "colab_type": "code",
    "id": "o6EKyy5MwjZn",
    "outputId": "9e07f226-1404-49cd-ec70-c9101e9e8b64"
   },
   "outputs": [],
   "source": [
    "%pylab inline\n",
    "image_name ='fractal.png'\n",
    "img = cv2.imread(image_name, cv2.IMREAD_COLOR)\n",
    "px.imshow(img, title ='Image originale de 7181 Ko')"
   ]
  },
  {
   "cell_type": "markdown",
   "metadata": {
    "colab_type": "text",
    "id": "dQz4FXPRfawW"
   },
   "source": [
    "## 1.2 Transfère de couleurs RGB à YCbCr\n",
    "\n",
    "- Y : luminance (dont l'oeil est très sensible)\n",
    "- Cb : crominance bleu\n",
    "- Cr : crominance rouge"
   ]
  },
  {
   "cell_type": "code",
   "execution_count": null,
   "metadata": {
    "colab": {
     "base_uri": "https://localhost:8080/",
     "height": 538
    },
    "colab_type": "code",
    "id": "f1a6JPAVHJFI",
    "outputId": "4f7a28d3-eecf-47aa-83a3-99ea3f31b4e0"
   },
   "outputs": [],
   "source": [
    "#image originale\n",
    "originalImg=copy(img)\n",
    "\n",
    "#transformation en ycbcr\n",
    "ycbcr=rgb2ycbcr(img)\n",
    "\n",
    "#transformation en rgb\n",
    "rgb=(ycbcr2rgb(ycbcr).clip(0,1)*255).astype(uint8)\n",
    "\n",
    "# affichage Ycbcr\n",
    "figure()\n",
    "title('Image YCbCr')\n",
    "imshow(ycbcr.astype(uint8))\n",
    "\n",
    "\n",
    "# affichage rgb\n",
    "figure()\n",
    "title('Image RGB reconstruite')\n",
    "imshow(rgb)\n",
    "\n",
    "# Pour la suite, nous travaillons avec le YCbCr\n",
    "img=ycbcr\n",
    "\n",
    "# vérification opération RGB_original > YCbCr > RGB = RGB_original\n",
    "print( \"image_originale to ycbcr to rgb == image_originale ? : \", allclose(rgb,originalImg,atol=1))"
   ]
  },
  {
   "cell_type": "markdown",
   "metadata": {},
   "source": [
    "## 1.3 Sous échantillonage des chrominances\n",
    "- Dans cette partie, on parcourt l'image par blocs de 4 pixels pour ne garder que la moyenne de ces 4 pixels pour chacune des 2 chrominances.\n",
    "- Ainsi on réduit l'information des chrominances.\n",
    "- Cette opération ne se fait pas sur la luminance car c'est la couche pour laquelle l'oeil humain est la plus sensible."
   ]
  },
  {
   "cell_type": "code",
   "execution_count": null,
   "metadata": {},
   "outputs": [],
   "source": [
    "def downsampling (chrom):\n",
    "    #####################\n",
    "    # input : chrom = canal d'une chrominance (img[:,:,1] ou img[:,:,2])\n",
    "    # output : chrom_down = canal de la même taille de l'entrée mais avec les valeurs moyennes\n",
    "    #####################\n",
    "    h, w = np.shape(chrom)\n",
    "    chrom_down = np.copy(chrom)\n",
    "    #chrom_down_bis = np.zeros((int(h/2), int(w/2)))\n",
    "    for i in range (0,h-2,2):\n",
    "        for j in range (0,w-2,2):\n",
    "            chrom_down[i:i+2, j:j+2] = (chrom[i, j] + chrom[i+1,j] + chrom[i,j+1] + chrom[i+1,j+1])/4.\n",
    "            #chrom_down_bis[int(i/2),int(j/2)] = (chrom[i, j] + chrom[i+1,j] + chrom[i,j+1] + chrom[i+1,j+1])/4.\n",
    "    return chrom_down\n",
    "\n",
    "img[:,:,1]=downsampling(img[:,:,1])\n",
    "img[:,:,2]=downsampling(img[:,:,2]) "
   ]
  },
  {
   "cell_type": "markdown",
   "metadata": {
    "colab_type": "text",
    "id": "35wEctyCwwUO"
   },
   "source": [
    "# 2. Transformation de l'image en blocs\n",
    "\n",
    "Les opérations suivantes (DCT, quantification) se font sur des blocs de tailles 8*8. \n",
    "\n",
    "Cette partie consiste à découper l'image en blocs."
   ]
  },
  {
   "cell_type": "code",
   "execution_count": null,
   "metadata": {},
   "outputs": [],
   "source": [
    "# Travail avec des blocs de taille 8*8 adapté à notre table de quantification\n",
    "# Ne pas augmenter !\n",
    "w = 8 \n",
    "h = w\n",
    "\n",
    "xLen = img.shape[1]//w \n",
    "yLen = img.shape[0]//h \n",
    "print(\"Nombre de découpages en largeur : \", xLen)\n",
    "print(\"Nombre de découpages en hauteur : \", yLen)"
   ]
  },
  {
   "cell_type": "code",
   "execution_count": null,
   "metadata": {
    "colab": {
     "base_uri": "https://localhost:8080/",
     "height": 303
    },
    "colab_type": "code",
    "id": "KGaGH75L4nfT",
    "outputId": "e0594a94-4dff-45f6-f8db-f628bc402841"
   },
   "outputs": [],
   "source": [
    "# Découpage de l'image en blocs\n",
    "def toBlocks(img):\n",
    "    ##############\n",
    "    # input : img = image de taille (yLen, xLen, 3)\n",
    "    # output : blocks = 3 tableaux de blocs 8*8 (yLen/8, xLen/8, 8, 8, 3)\n",
    "    ##############\n",
    "    #création de 3 matrices : une pour chaque canal\n",
    "    blocks = zeros((yLen,xLen,h,w,3),dtype=int16)\n",
    "    for y in range(yLen):\n",
    "        for x in range(xLen):\n",
    "            blocks[y][x]=img[y*h:(y+1)*h,x*w:(x+1)*w] #h = 8, w = 8\n",
    "    return array(blocks)\n",
    "\n",
    "# Affichage des blocs\n",
    "def plotBlocks(blocks):\n",
    "    ###################\n",
    "    # Affiche les blocks données en entrée\n",
    "    # input : blocks = tout ou partie de la sortie de toBlocks\n",
    "    ###################\n",
    "    xLen=blocks.shape[1]\n",
    "    yLen=blocks.shape[0]\n",
    "    for y in range(yLen): #largeur\n",
    "        for x in range(xLen): #hauteur\n",
    "            subplot(yLen,xLen,1+xLen*y+x) #subplot(nbre lignes, nbre col, place)\n",
    "            imshow(blocks[y][x])\n",
    "            axis('off')"
   ]
  },
  {
   "cell_type": "code",
   "execution_count": null,
   "metadata": {},
   "outputs": [],
   "source": [
    "blocks = toBlocks(img)"
   ]
  },
  {
   "cell_type": "code",
   "execution_count": null,
   "metadata": {},
   "outputs": [],
   "source": [
    "#affichage d'un morceau du découpage blocs\n",
    "x1 = 210\n",
    "y1 = 210\n",
    "figure(figsize=(5,5))\n",
    "plotBlocks(blocks[y1:y1+20,x1:x1+20])"
   ]
  },
  {
   "cell_type": "markdown",
   "metadata": {
    "colab_type": "text",
    "id": "J4M_txDkw8ef"
   },
   "source": [
    "# 3. DCT (Discrete Cosine Transform) : Transformée en Cosinus Discrete\n",
    "\n",
    "- Objectif : isoler les fréquences les plus visibles par l'oeil humain.\n",
    "- On utilise les fonctions dctn et idctn de scipy.fft qui permettent de traiter la DCT sur des tableaux.\n",
    "\n",
    "\n",
    "En dimension 2 : \n",
    "\n",
    "$ DCT(w,h) = \\frac{2}{\\sqrt{N*N}}C(m)C(n)\\sum_{i=0}^{N-1}\\sum_{j=0}^{N-1}pixel(i,j)\\cos{\\frac{(2i+1)w\\pi}{2N}} \\cos{\\frac{(2j+1)h\\pi}{2N}}$\n",
    "  \n",
    "Avec $C(k)=\\frac{1}{\\sqrt{2}}$ quand $k=0 $ et $C(k)= 1 $ sinon.\n",
    "    \n",
    "Avec N la largeur/la hauteur du bloc : 8*8. \n",
    "\n"
   ]
  },
  {
   "cell_type": "markdown",
   "metadata": {},
   "source": [
    "- L'opération DCT/iDCT n'entraine que peu de pertes (liées aux arrondis machine)"
   ]
  },
  {
   "cell_type": "code",
   "execution_count": null,
   "metadata": {},
   "outputs": [],
   "source": [
    "# Définition de la DCT sur un bloc de taille 8*8 sur un seul canal\n",
    "N = 8 # = h = w\n",
    "\n",
    "# Décomposition en cosinus\n",
    "def DCT_b(bl, N):\n",
    "    #############\n",
    "    # inputs : bl = un bloc de taille N*N (un seul canal)\n",
    "    #         N = taille du bloc (8)\n",
    "    # output : DCT_blocs = résultat de la DCT, taille N*N\n",
    "    #############\n",
    "    \n",
    "    DCT_blocs = np.zeros((N, N)) # \n",
    "    DCT_blocs[0:N ,0:N] = dctn(bl[0:N , 0:N], type = 2,  norm = 'ortho')\n",
    "    return DCT_blocs\n",
    "\n",
    "# Décomposition inverse\n",
    "def iDCT_b(bl, N):\n",
    "    #############\n",
    "    # input : bl = un bloc de taille N*N (un seul canal)\n",
    "    #         N = taille du bloc (8)\n",
    "    # output : iDCT_blocs = résultat de la DCT inverse, taille N*N\n",
    "    #############\n",
    "    iDCT_blocs = np.zeros((N, N)) # \n",
    "    iDCT_blocs[0:N ,0:N] = idctn(bl[0:N , 0:N], type = 2,  norm = 'ortho')\n",
    "    return iDCT_blocs"
   ]
  },
  {
   "cell_type": "code",
   "execution_count": null,
   "metadata": {},
   "outputs": [],
   "source": [
    "# Exmemple de la DCT/iDCT sur un bloc 8*8\n",
    "figure(figsize=(9.5,9.5))\n",
    "\n",
    "# Exemple de DCT sur un bloc de l'image    \n",
    "subplot(3,3,1)\n",
    "title('Original canal Y')\n",
    "imshow(blocks[0][0][:,:,0], cmap = cm.gray)\n",
    "subplot(3,3,2)\n",
    "title('Original canal Cb')\n",
    "imshow(blocks[0][0][:,:,1], cmap = cm.gray)\n",
    "subplot(3,3,3)\n",
    "title('Original canal Cr')\n",
    "imshow(blocks[0][0][:,:,2], cmap = cm.gray)\n",
    "    \n",
    "subplot(3,3,4)\n",
    "title('DCT canal Y')\n",
    "imshow(DCT_b(blocks[0][0][:,:,0], 8), cmap = cm.gray)\n",
    "subplot(3,3,5)\n",
    "title('DCT canal Cb')\n",
    "imshow(DCT_b(blocks[0][0][:,:,1], 8), cmap = cm.gray)\n",
    "subplot(3,3,6)\n",
    "title('DCT canal Cr')\n",
    "imshow(DCT_b(blocks[0][0][:,:,2], 8), cmap = cm.gray)\n",
    "\n",
    "subplot(3,3,7)\n",
    "title('iDCT canal Y')\n",
    "imshow(iDCT_b(DCT_b(blocks[0][0][:,:,0], 8), 8), cmap = cm.gray)\n",
    "subplot(3,3,8)\n",
    "title('iDCT canal Cb')\n",
    "imshow(iDCT_b(DCT_b(blocks[0][0][:,:,1], 8), 8), cmap = cm.gray)\n",
    "subplot(3,3,9)\n",
    "title('iDCT canal Cr')\n",
    "imshow(iDCT_b(DCT_b(blocks[0][0][:,:,2], 8), 8), cmap = cm.gray)"
   ]
  },
  {
   "cell_type": "markdown",
   "metadata": {
    "colab_type": "text",
    "id": "T7Vzb-m-vSoz"
   },
   "source": [
    "## 3.1 DCT sur l'image entière, i.e. sur tous les blocs"
   ]
  },
  {
   "cell_type": "code",
   "execution_count": null,
   "metadata": {},
   "outputs": [],
   "source": [
    "# DCT sur tous les blocs de l'image et sur les 3 canaux\n",
    "def DCT_AllBlocs(blocks): \n",
    "    #####################\n",
    "    # Calcul de la DCT sur tous les blocs de l'image et sur les 3 canaux\n",
    "    # input : blocks = le découpage en blocs de l'image (yLen/8, xLen/8, 8, 8, 3)\n",
    "    # output : dctBlocks (yLen/8, xLen/8, 8, 8, 3)\n",
    "    #####################\n",
    "    \n",
    "    #création de trois tableaux (un pour chaque cannal)\n",
    "    #contenant des blocs de taille 8*8 \n",
    "    dctBlocks = zeros((yLen,xLen,h,w,3)) \n",
    "    \n",
    "    for y in range(yLen): #largeur\n",
    "        for x in range(xLen): #hauteur\n",
    "            d = zeros((h,w,3))\n",
    "            for i in range(3): # parcours des canaux\n",
    "                block=blocks[y][x][:,:,i] # un bloc un canal\n",
    "                d[:,:,i] = DCT_b(block, 8)\n",
    "            dctBlocks[y][x]=d\n",
    "    return dctBlocks"
   ]
  },
  {
   "cell_type": "code",
   "execution_count": null,
   "metadata": {},
   "outputs": [],
   "source": [
    "# on définit la dct inverse\n",
    "def iDCT_AllBlocs(blocks):    \n",
    "    #####################\n",
    "    # Calcul de la DCT inverse sur tous les blocs de l'image et sur les 3 canaux\n",
    "    # input : blocks = le découpage en blocs de l'image (yLen/8, xLen/8, 8, 8, 3)\n",
    "    # output : idctBlocks (yLen/8, xLen/8, 8, 8, 3)\n",
    "    #####################\n",
    "    idctBlocks = zeros((yLen,xLen,h,w,3)) \n",
    "    for y in range(yLen):\n",
    "        for x in range(xLen):\n",
    "            d = zeros((h,w,3))\n",
    "            for i in range(3):\n",
    "                block=blocks[y][x][:,:,i] # un bloc un canal\n",
    "                d[:,:,i] = iDCT_b(block, 8)\n",
    "            idctBlocks[y][x]=d\n",
    "    return idctBlocks"
   ]
  },
  {
   "cell_type": "code",
   "execution_count": null,
   "metadata": {},
   "outputs": [],
   "source": [
    "blocks = toBlocks(img)\n",
    "# dctBlocks est l'ensemble des blocs de l'image ayant subit la dct\n",
    "dctBlocks = DCT_AllBlocs(blocks)"
   ]
  },
  {
   "cell_type": "markdown",
   "metadata": {
    "colab_type": "text",
    "id": "l7iFNDvWxJcn"
   },
   "source": [
    "## 3.2 Transfomation DCT en image : \n",
    "\n",
    "- Affichage de l'image après l'opération de DCT\n"
   ]
  },
  {
   "cell_type": "code",
   "execution_count": null,
   "metadata": {
    "colab": {},
    "colab_type": "code",
    "id": "1EwjK_Kk5tfN"
   },
   "outputs": [],
   "source": [
    "def blocks2img(blocks):\n",
    "    ###################\n",
    "    # Fonction permettant de passer du format bloc au format image\n",
    "    # input : blocks = image au format blocs (yLen/8, xLen/8, 8, 8, 3) \n",
    "    # output : img = image en format 'classique' (yLen, xLen, 3)\n",
    "    # \n",
    "    ###################\n",
    "    img = zeros((yLen*h,xLen*w,3))\n",
    "    # opération inverse à la création des blocs\n",
    "    for y in range(yLen):\n",
    "        for x in range(xLen):\n",
    "            img[y*h:y*h+h,x*w:x*w+w]=blocks[y][x] # chaque bloc prend la place de 8*8 pixels\n",
    "    return img\n",
    "newImg= blocks2img(dctBlocks)"
   ]
  },
  {
   "cell_type": "code",
   "execution_count": null,
   "metadata": {},
   "outputs": [],
   "source": [
    "px.imshow(newImg.clip(0,1)*255, title = \"DCT sur toute l'image\")"
   ]
  },
  {
   "cell_type": "code",
   "execution_count": null,
   "metadata": {},
   "outputs": [],
   "source": [
    "# channel luminance\n",
    "px.imshow(newImg[:,:,0].clip(0,1)*255, color_continuous_scale = 'gray', title = \"DCT sur la luminance\")"
   ]
  },
  {
   "cell_type": "code",
   "execution_count": null,
   "metadata": {},
   "outputs": [],
   "source": [
    "px.imshow(newImg[:,:,1].clip(0,1)*255, color_continuous_scale = 'gray', title = \"DCT sur Cb\")"
   ]
  },
  {
   "cell_type": "code",
   "execution_count": null,
   "metadata": {},
   "outputs": [],
   "source": [
    "px.imshow(newImg[:,:,2].clip(0,1)*255, color_continuous_scale = 'gray', title = \"DCT sur Cr\")"
   ]
  },
  {
   "cell_type": "markdown",
   "metadata": {
    "colab_type": "text",
    "id": "ChSu9rx2E4Au"
   },
   "source": [
    "# 4. Quantification"
   ]
  },
  {
   "cell_type": "markdown",
   "metadata": {
    "colab_type": "text",
    "id": "gkbg9SBAxnzT"
   },
   "source": [
    "## 4.1 Matrice Q 'classique'\n",
    "\n",
    "- Le choix de la matrice Q est très important pour éviter les artefacts.\n",
    "- Certaines sources proposent des matrices Q différentes pour les luminance et les chrominances.\n",
    "- Ici nous choisissons la matrice Q 'classique' (récupérée sur internet)."
   ]
  },
  {
   "cell_type": "code",
   "execution_count": null,
   "metadata": {},
   "outputs": [],
   "source": [
    "# La quantification permet de diminuer les hautes fréquences mises en évidence avec la DCT\n",
    "Q = np.array([[16, 11, 10, 16, 24, 40, 51, 61], # Matrice de quantification\n",
    "       [12, 12, 14, 19, 26, 58, 60, 55],\n",
    "       [14, 13, 16, 24, 40, 57, 69, 56], \n",
    "       [14, 17, 22, 29, 51, 87, 80, 62], \n",
    "       [18, 22, 37, 56, 68, 109, 103, 77], \n",
    "       [24, 35, 55, 64, 81, 104, 113, 92], \n",
    "       [49, 64, 78, 87, 103, 121, 120, 101], \n",
    "       [72, 92, 95, 98, 112, 100, 103, 99]])"
   ]
  },
  {
   "cell_type": "code",
   "execution_count": null,
   "metadata": {},
   "outputs": [],
   "source": [
    "# En sommant 3 fois le tableau on obtient un objet de taille (3,8,8)\n",
    "# move axis 0,2 passe la dimension 0 en dimension 2\n",
    "# la matrice de quantification Q3 est en taille (8,8,3)\n",
    "Q3 =  moveaxis(array([Q]+[Q]+[Q]),0,2) \n",
    "\n",
    "# Création d'une matrice Q_artefact pour mettre en évidence l'importance d'un bon choix de Q.\n",
    "Q_artefact = 5*Q3\n",
    "\n",
    "#faire une copy == très important !\n",
    "qDctBlocks=copy(dctBlocks)\n",
    "qDctBlocks=(qDctBlocks/Q3).round().astype('int16') #Division par la matrice de quantification\n",
    "print(qDctBlocks.shape) # la taille reste la même\n",
    "\n",
    "#DCT avec une 'mauvaise' matrice de quantification pour voir les artefacts\n",
    "qDctBlocks_artefact=copy(dctBlocks)\n",
    "qDctBlocks_artefact=(qDctBlocks_artefact/Q_artefact).round().astype('int16') #Division par la matrice de quantification\n",
    "print(qDctBlocks_artefact.shape) # la taille reste la même"
   ]
  },
  {
   "cell_type": "code",
   "execution_count": null,
   "metadata": {
    "colab": {
     "base_uri": "https://localhost:8080/",
     "height": 324
    },
    "colab_type": "code",
    "id": "sjnC9gUNZ-Be",
    "outputId": "ec3246bd-76dc-418a-e761-c69b23e2d564"
   },
   "outputs": [],
   "source": [
    "def exemple(block):\n",
    "    subplot(1,3,1)#Y\n",
    "    imshow(block[76][200][:,:,0],cmap=cm.gray)\n",
    "    subplot(1,3,2)#Cb\n",
    "    imshow(block[76][200][:,:,1],cmap=cm.gray)\n",
    "    subplot(1,3,3)#Cr\n",
    "    imshow(block[76][200][:,:,2],cmap=cm.gray)\n",
    "\n",
    "exemple(dctBlocks)\n",
    "title(\"DCT blocs origninaaux\")\n",
    "figure()\n",
    "exemple(qDctBlocks)\n",
    "title(\"DCT blocs quantifiées\")\n",
    "figure()\n",
    "exemple(qDctBlocks_artefact)\n",
    "title(\"DCT blocs avec 'mauvaise' quantification\")"
   ]
  },
  {
   "cell_type": "markdown",
   "metadata": {
    "colab_type": "text",
    "id": "ocz7Iyoeya2c"
   },
   "source": [
    "## 4.2 Dct quantifiée en image : "
   ]
  },
  {
   "cell_type": "code",
   "execution_count": null,
   "metadata": {
    "colab": {
     "base_uri": "https://localhost:8080/",
     "height": 922
    },
    "colab_type": "code",
    "id": "nJeLWBvbvgnT",
    "outputId": "3dc76541-584e-4e26-b440-67e87cd25a27"
   },
   "outputs": [],
   "source": [
    "qDctImg=blocks2img(qDctBlocks)\n",
    "# on voit moins de hautes fréquences ! > super"
   ]
  },
  {
   "cell_type": "code",
   "execution_count": null,
   "metadata": {},
   "outputs": [],
   "source": [
    "px.imshow(qDctImg.clip(0,1)*255)"
   ]
  },
  {
   "cell_type": "markdown",
   "metadata": {},
   "source": [
    "De nombreuses hautes fréquences ont disparu, laissant principalement les informations en haut à gauche.\n",
    "L'étape de quantification a bien fonctionné."
   ]
  },
  {
   "cell_type": "markdown",
   "metadata": {
    "colab_type": "text",
    "id": "q1bjhh1KzgbF"
   },
   "source": [
    "## 4.4 Décompression (reconstruction d'image) de la DCT et des DCT quantifiées\n"
   ]
  },
  {
   "cell_type": "code",
   "execution_count": null,
   "metadata": {},
   "outputs": [],
   "source": [
    "plt.figure(figsize=(15, 15))\n",
    "\n",
    "plt.subplot(1,3,1)\n",
    "plt.title(\"Wrong quantized DCT\")\n",
    "dedctBlocks_wrong=iDCT_AllBlocs(qDctBlocks_artefact*Q_artefact)\n",
    "plt.imshow((ycbcr2rgb(blocks2img(dedctBlocks_wrong)).clip(0,1)*255).astype(uint8)[600:750,600:750])\n",
    "\n",
    "plt.subplot(1,3,2)\n",
    "plt.title(\"Quantized DCT\")\n",
    "dedctBlocks=iDCT_AllBlocs(qDctBlocks*Q3)\n",
    "plt.imshow((ycbcr2rgb(blocks2img(dedctBlocks)).clip(0,1)*255).astype(uint8)[600:750,600:750])\n",
    "\n",
    "plt.subplot(1,3,3)\n",
    "plt.title(\"Original DCT\")\n",
    "dedctBlocks=iDCT_AllBlocs(dctBlocks)\n",
    "plt.imshow((ycbcr2rgb(blocks2img(dedctBlocks)).clip(0,1)*255).astype(uint8)[600:750,600:750])\n",
    "\n",
    "figure()"
   ]
  },
  {
   "cell_type": "markdown",
   "metadata": {},
   "source": [
    "L'image est bien reconstruite. On remarque bien les artefacts dans la cas de l'utilisation d'une mauvaise matrice de quantification."
   ]
  },
  {
   "cell_type": "markdown",
   "metadata": {
    "colab_type": "text",
    "id": "EaPftlJa1G_-"
   },
   "source": [
    "# 5. Stockage : Zigzag et codage de Huffman\n",
    "\n",
    "- L'objectif est de stocker l'image le plus légèrement possible."
   ]
  },
  {
   "cell_type": "markdown",
   "metadata": {
    "colab_type": "text",
    "id": "-kLgFqHa1Yu4"
   },
   "source": [
    "## 5.1 Zig-Zag\n",
    "Pour un bloc, on parcourt la matrice en ZigZag c'est à dire ses diagonales une à une en démarrant du coin haut gauche. On créé une liste des coefficients du bloc: ainsi les hautes valeurs se retrouve au début de la liste."
   ]
  },
  {
   "cell_type": "markdown",
   "metadata": {},
   "source": [
    "![ZigZag.png](data:image/png;base64,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)"
   ]
  },
  {
   "cell_type": "code",
   "execution_count": null,
   "metadata": {
    "colab": {
     "base_uri": "https://localhost:8080/",
     "height": 255
    },
    "colab_type": "code",
    "id": "zosxTA77F771",
    "outputId": "41dfa85b-be17-4876-ae23-245901505909"
   },
   "outputs": [],
   "source": [
    "def zigZag(block):\n",
    "    lines=[[] for i in range(h+w-1)] \n",
    "    for y in range(h): \n",
    "        for x in range(w): \n",
    "            i=y+x \n",
    "            if(i%2 ==0):  #diagonale que l'on remonte\n",
    "                lines[i].insert(0,block[y][x])  #diagonale que l'on descend\n",
    "            else:  \n",
    "                lines[i].append(block[y][x]) \n",
    "    return array([coefficient for line in lines for coefficient in line])\n"
   ]
  },
  {
   "cell_type": "code",
   "execution_count": null,
   "metadata": {},
   "outputs": [],
   "source": [
    "print('exemple de codage Zigzag sur le bloc : \\n', qDctBlocks[0][0][:,:,0])\n",
    "print('Codage ZigZag : ', zigZag(qDctBlocks[0][0][:,:,0]))"
   ]
  },
  {
   "cell_type": "code",
   "execution_count": null,
   "metadata": {},
   "outputs": [],
   "source": [
    "print('exemple de codage Zigzag sur le bloc : \\n', qDctBlocks[0][0][:,:,1])\n",
    "print('Codage ZigZag : ', zigZag(qDctBlocks[0][0][:,:,1]))\n",
    "print('exemple de codage Zigzag sur le bloc : \\n', qDctBlocks[0][0][:,:,2])\n",
    "print('Codage ZigZag : ', zigZag(qDctBlocks[0][0][:,:,2]))"
   ]
  },
  {
   "cell_type": "markdown",
   "metadata": {
    "colab_type": "text",
    "id": "bwvaP53K5zGx"
   },
   "source": [
    "## 5.2 Codage de Huffman"
   ]
  },
  {
   "cell_type": "code",
   "execution_count": null,
   "metadata": {
    "colab": {
     "base_uri": "https://localhost:8080/",
     "height": 153
    },
    "colab_type": "code",
    "id": "0B75Vl7j5xWO",
    "outputId": "7694e4b4-3ec8-4d01-c49f-0eb28fdaf764"
   },
   "outputs": [],
   "source": [
    "def huffmanCounter(zigZagArr):\n",
    "    ##########################\n",
    "    # Compte la fréquence de chaque nombre\n",
    "    # input : zigZagArr = codage zigZag d'un channel\n",
    "    ##########################    \n",
    "    rbCount=[]\n",
    "    run=0\n",
    "    for AC in zigZagArr[1:]:\n",
    "        if(AC!=0):\n",
    "            AC=max(AC,1-2**(2**bitBits-1)) if AC<0 else min(AC,2**(2**bitBits-1)-1)\n",
    "        if(run>2**runBits-1):\n",
    "            runGap=2**runBits\n",
    "            k=run//runGap\n",
    "            for i in range(k):\n",
    "                rbCount.append('1'*runBits+'0'*bitBits)\n",
    "            run-=k*runGap\n",
    "        run=min(run,2**runBits-1) \n",
    "        bitSize=min(int(ceil(log(abs(AC)+0.000000001)/log(2))),2**bitBits-1)\n",
    "        rbCount.append(format(run<<bitBits|bitSize,'0'+str(rbBits)+'b'))\n",
    "        run=0\n",
    "    else:\n",
    "        run+=1\n",
    "    rbCount.append(\"0\"*(rbBits))\n",
    "    return Counter(rbCount)"
   ]
  },
  {
   "cell_type": "code",
   "execution_count": null,
   "metadata": {},
   "outputs": [],
   "source": [
    "rbCount=zeros(3,dtype=Counter)\n",
    "rbCount[0]=huffmanCounter(zigZag(qDctBlocks[0][0][:,:,0]))\n",
    "print('compteur luminance : ', rbCount[0])\n",
    "rbCount[1]=huffmanCounter(zigZag(qDctBlocks[0][0][:,:,1]))\n",
    "print('compteur chrominance 1 : ', rbCount[1])\n",
    "rbCount[2]=huffmanCounter(zigZag(qDctBlocks[0][0][:,:,2]))\n",
    "print('compteur chrominance 2 : ', rbCount[2], '\\n')\n",
    "\n",
    "rbCount=sum(rbCount)\n",
    "\n",
    "print(\"Compteur pour les 3 channelr :\\n\"+str(rbCount))\n",
    "\n",
    "print(\"\\nHuffman Coding:\\n\"+str(huffman.codebook(rbCount.items())))"
   ]
  },
  {
   "cell_type": "markdown",
   "metadata": {},
   "source": [
    "Le codage d'Huffman nous donne bien des codages binaires. La longueur du codage en bit diminue proportionnellement au nombre de fois d'apparition de la valeur dans la matrice zigzag."
   ]
  },
  {
   "cell_type": "markdown",
   "metadata": {},
   "source": [
    "#### Calcul de l'entropie du codage de huffman"
   ]
  },
  {
   "cell_type": "markdown",
   "metadata": {},
   "source": [
    " L'entropie du codage de Huffman représente le nombre moyen de bits pour coder un pixel. Elle peut être calculée en utilisant la formule suivante :\n",
    "\n",
    "$$H = \\sum(pi * li)$$\n",
    "\n",
    "Avec : \n",
    "    \n",
    "- H : entropie du code de Huffman\n",
    "- pi : probabilité d'un symbole ('1', '01, '11', '10', '00', '010',...)\n",
    "- li : longueur du code de Huffman associé à ce symbole. (1, 2, 2, 2, 2, 3, ...)\n",
    "\n",
    "    "
   ]
  },
  {
   "cell_type": "code",
   "execution_count": null,
   "metadata": {},
   "outputs": [],
   "source": [
    "def entropie(proba, taille):\n",
    "    ########################\n",
    "    # input : proba : liste des fréquences d'apparitions des nombre\n",
    "    #         taille : liste du nombre de bit nécéssaire pour coder les nombre\n",
    "    #                !! les indices deux listes doivent correspondre !!\n",
    "    ########################\n",
    "    S = 0\n",
    "    for i in range(len(proba)):\n",
    "        S += proba[i]*taille[i]\n",
    "    return S"
   ]
  },
  {
   "cell_type": "code",
   "execution_count": null,
   "metadata": {},
   "outputs": [],
   "source": [
    "p = rbCount\n",
    "proba = []\n",
    "resp = {key: val for key, val in sorted(p.items(), key = lambda ele: ele[0])}\n",
    "\n",
    "proba = list(resp.values()) #liste ordonnées selon le nb de bit des fréquences d'apparition\n",
    "proba = proba/sum(proba)   \n",
    "\n",
    "huff2 = (huffman.codebook(rbCount.items()))\n",
    "res = {key: val for key, val in sorted(huff2.items(), key = lambda ele: ele[0])}\n",
    "codes = list(res.values())\n",
    "taille = []\n",
    "for i in range(len(codes)):\n",
    "    taille.append(len(codes[i]))\n",
    "    \n",
    "print(\"Entropie du codage de Huffman\", entropie(proba, taille)) #taille minimale de l'encodage"
   ]
  },
  {
   "cell_type": "markdown",
   "metadata": {},
   "source": [
    "Les codes ci-dessous codent l'image entière, au lieu de seulement une partie comme précédemment."
   ]
  },
  {
   "cell_type": "code",
   "execution_count": null,
   "metadata": {},
   "outputs": [],
   "source": [
    "def huffmanCounterWholeImg(blocks):\n",
    "    rbCount=zeros(xLen*yLen*3,dtype=Counter)\n",
    "    zz=zeros(xLen*yLen*3,dtype=object)\n",
    "    #parcours blocks\n",
    "    for y in range(yLen):\n",
    "        for x in range(xLen):\n",
    "            for i in range(3):\n",
    "                zz[y*xLen*3+x*3+i]=zigZag(blocks[y, x,:,:,i])\n",
    "                rbCount[y*xLen*3+x*3+i]=huffmanCounter(zz[y*xLen*3+x*3+i])\n",
    "    return sum(rbCount),zz\n",
    "rbCount,zz=huffmanCounterWholeImg(qDctBlocks)\n",
    "hfm=huffman.codebook(rbCount.items())\n",
    "sortedHfm=[[hfm[i[0]],i[0],rbCount[i[0]]] for i in rbCount.most_common()]\n",
    "sortedHfm"
   ]
  },
  {
   "cell_type": "code",
   "execution_count": null,
   "metadata": {},
   "outputs": [],
   "source": [
    "print(\"(run,bit) occupies: \"+str(sum(array(rbCount.most_common(),dtype=int32)[:,1]*rbBits)/8/2**10)+\" KB\")\n",
    "print(\"(run,bit) after Huffman Coding occupies: \"+str(sum([rbCount[k]*len(v) for k,v in hfm.items()])/8/2**10)+\" KB\")"
   ]
  },
  {
   "cell_type": "code",
   "execution_count": null,
   "metadata": {},
   "outputs": [],
   "source": [
    "p_entier = rbCount\n",
    "proba_entier = []\n",
    "resp_entier = {key: val for key, val in sorted(p_entier.items(), key = lambda ele: ele[0])}\n",
    "\n",
    "proba_entier = list(resp_entier.values()) #liste ordonnées selon le nb de bit des fréquences d'apparition\n",
    "proba_entier = proba_entier/sum(proba_entier)   \n",
    "huff3 = (huffman.codebook(rbCount.items()))\n",
    "res_entier = {key: val for key, val in sorted(huff3.items(), key = lambda ele: ele[0])}\n",
    "codes_entier = list(res_entier.values())\n",
    "taille_entier = []\n",
    "for i in range(len(codes_entier)):\n",
    "    taille_entier.append(len(codes_entier[i]))\n",
    "    \n",
    "print(\"Entropie du codage de Huffman pour l'image entière\", entropie(proba_entier, taille_entier)) #taille minimale de l'encodage"
   ]
  }
 ],
 "metadata": {
  "colab": {
   "collapsed_sections": [],
   "name": "JpegCompression.ipynb",
   "provenance": [],
   "toc_visible": true
  },
  "kernelspec": {
   "display_name": "Python 3 (ipykernel)",
   "language": "python",
   "name": "python3"
  },
  "language_info": {
   "codemirror_mode": {
    "name": "ipython",
    "version": 3
   },
   "file_extension": ".py",
   "mimetype": "text/x-python",
   "name": "python",
   "nbconvert_exporter": "python",
   "pygments_lexer": "ipython3",
   "version": "3.9.12"
  }
 },
 "nbformat": 4,
 "nbformat_minor": 1
}
