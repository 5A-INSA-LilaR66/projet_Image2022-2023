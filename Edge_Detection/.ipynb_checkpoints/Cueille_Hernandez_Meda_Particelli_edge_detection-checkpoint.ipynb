{
 "cells": [
  {
   "cell_type": "markdown",
   "metadata": {},
   "source": [
    "Edge Detection\n",
    "==============\n",
    "\n",
    "*Important:* Please read the [installation page](http://gpeyre.github.io/numerical-tours/installation_python/) for details about how to install the toolboxes.\n",
    "$\\newcommand{\\dotp}[2]{\\langle #1, #2 \\rangle}$\n",
    "$\\newcommand{\\enscond}[2]{\\lbrace #1, #2 \\rbrace}$\n",
    "$\\newcommand{\\pd}[2]{ \\frac{ \\partial #1}{\\partial #2} }$\n",
    "$\\newcommand{\\umin}[1]{\\underset{#1}{\\min}\\;}$\n",
    "$\\newcommand{\\umax}[1]{\\underset{#1}{\\max}\\;}$\n",
    "$\\newcommand{\\umin}[1]{\\underset{#1}{\\min}\\;}$\n",
    "$\\newcommand{\\uargmin}[1]{\\underset{#1}{argmin}\\;}$\n",
    "$\\newcommand{\\norm}[1]{\\|#1\\|}$\n",
    "$\\newcommand{\\abs}[1]{\\left|#1\\right|}$\n",
    "$\\newcommand{\\choice}[1]{ \\left\\{  \\begin{array}{l} #1 \\end{array} \\right. }$\n",
    "$\\newcommand{\\pa}[1]{\\left(#1\\right)}$\n",
    "$\\newcommand{\\diag}[1]{{diag}\\left( #1 \\right)}$\n",
    "$\\newcommand{\\qandq}{\\quad\\text{and}\\quad}$\n",
    "$\\newcommand{\\qwhereq}{\\quad\\text{where}\\quad}$\n",
    "$\\newcommand{\\qifq}{ \\quad \\text{if} \\quad }$\n",
    "$\\newcommand{\\qarrq}{ \\quad \\Longrightarrow \\quad }$\n",
    "$\\newcommand{\\ZZ}{\\mathbb{Z}}$\n",
    "$\\newcommand{\\CC}{\\mathbb{C}}$\n",
    "$\\newcommand{\\RR}{\\mathbb{R}}$\n",
    "$\\newcommand{\\EE}{\\mathbb{E}}$\n",
    "$\\newcommand{\\Zz}{\\mathcal{Z}}$\n",
    "$\\newcommand{\\Ww}{\\mathcal{W}}$\n",
    "$\\newcommand{\\Vv}{\\mathcal{V}}$\n",
    "$\\newcommand{\\Nn}{\\mathcal{N}}$\n",
    "$\\newcommand{\\NN}{\\mathcal{N}}$\n",
    "$\\newcommand{\\Hh}{\\mathcal{H}}$\n",
    "$\\newcommand{\\Bb}{\\mathcal{B}}$\n",
    "$\\newcommand{\\Ee}{\\mathcal{E}}$\n",
    "$\\newcommand{\\Cc}{\\mathcal{C}}$\n",
    "$\\newcommand{\\Gg}{\\mathcal{G}}$\n",
    "$\\newcommand{\\Ss}{\\mathcal{S}}$\n",
    "$\\newcommand{\\Pp}{\\mathcal{P}}$\n",
    "$\\newcommand{\\Ff}{\\mathcal{F}}$\n",
    "$\\newcommand{\\Xx}{\\mathcal{X}}$\n",
    "$\\newcommand{\\Mm}{\\mathcal{M}}$\n",
    "$\\newcommand{\\Ii}{\\mathcal{I}}$\n",
    "$\\newcommand{\\Dd}{\\mathcal{D}}$\n",
    "$\\newcommand{\\Ll}{\\mathcal{L}}$\n",
    "$\\newcommand{\\Tt}{\\mathcal{T}}$\n",
    "$\\newcommand{\\si}{\\sigma}$\n",
    "$\\newcommand{\\al}{\\alpha}$\n",
    "$\\newcommand{\\la}{\\lambda}$\n",
    "$\\newcommand{\\ga}{\\gamma}$\n",
    "$\\newcommand{\\Ga}{\\Gamma}$\n",
    "$\\newcommand{\\La}{\\Lambda}$\n",
    "$\\newcommand{\\si}{\\sigma}$\n",
    "$\\newcommand{\\Si}{\\Sigma}$\n",
    "$\\newcommand{\\be}{\\beta}$\n",
    "$\\newcommand{\\de}{\\delta}$\n",
    "$\\newcommand{\\De}{\\Delta}$\n",
    "$\\newcommand{\\phi}{\\varphi}$\n",
    "$\\newcommand{\\th}{\\theta}$\n",
    "$\\newcommand{\\om}{\\omega}$\n",
    "$\\newcommand{\\Om}{\\Omega}$"
   ]
  },
  {
   "cell_type": "code",
   "execution_count": null,
   "metadata": {
    "ExecuteTime": {
     "end_time": "2022-11-15T14:03:50.915324Z",
     "start_time": "2022-11-15T14:03:49.118289Z"
    }
   },
   "outputs": [],
   "source": [
    "from __future__ import division\n",
    "\n",
    "import numpy as np\n",
    "import scipy as scp\n",
    "import pylab as pyl\n",
    "import matplotlib.pyplot as plt\n",
    "\n",
    "from nt_toolbox.general import *\n",
    "from nt_toolbox.signal import *\n",
    "\n",
    "import warnings\n",
    "warnings.filterwarnings('ignore')\n",
    "import cv2 as cv\n",
    "\n",
    "%matplotlib inline\n",
    "%load_ext autoreload\n",
    "%autoreload 2"
   ]
  },
  {
   "cell_type": "code",
   "execution_count": null,
   "metadata": {},
   "outputs": [],
   "source": [
    "np.random.seed(0)"
   ]
  },
  {
   "cell_type": "markdown",
   "metadata": {},
   "source": [
    "Diffusion and Convolution\n",
    "-------------------------\n",
    "To obtain robust edge detection method, it is required to first remove\n",
    "the noise and small scale features in the image. This can be achieved\n",
    "using a linear blurring kernel.\n",
    "\n",
    "\n",
    "Size of the image."
   ]
  },
  {
   "cell_type": "code",
   "execution_count": null,
   "metadata": {
    "ExecuteTime": {
     "end_time": "2022-11-15T14:03:56.660955Z",
     "start_time": "2022-11-15T14:03:56.571172Z"
    }
   },
   "outputs": [],
   "source": [
    "n = 256*2"
   ]
  },
  {
   "cell_type": "markdown",
   "metadata": {},
   "source": [
    "Load an image $f_0$ of $N=n \\times n$ pixels."
   ]
  },
  {
   "cell_type": "code",
   "execution_count": null,
   "metadata": {
    "ExecuteTime": {
     "end_time": "2022-11-15T14:03:59.310582Z",
     "start_time": "2022-11-15T14:03:59.231488Z"
    }
   },
   "outputs": [],
   "source": [
    "f0 = load_image(\"cortex.bmp\",n)"
   ]
  },
  {
   "cell_type": "markdown",
   "metadata": {},
   "source": [
    "Display it."
   ]
  },
  {
   "cell_type": "code",
   "execution_count": null,
   "metadata": {
    "ExecuteTime": {
     "end_time": "2022-11-15T14:04:02.364763Z",
     "start_time": "2022-11-15T14:04:02.215587Z"
    }
   },
   "outputs": [],
   "source": [
    "plt.figure(figsize=(5,5))\n",
    "imageplot(f0)"
   ]
  },
  {
   "cell_type": "markdown",
   "metadata": {},
   "source": [
    "Blurring is achieved using convolution:\n",
    "$$ f \\star h(x) = \\sum_y f(y-x) h(x) $$\n",
    "where we assume periodic boundary condition.\n",
    "\n",
    "\n",
    "This can be computed in $O(N\\log(N))$ operations using the FFT, since\n",
    "$$ g = f \\star h \\qarrq \\forall \\om, \\quad \\hat g(\\om) = \\hat f(\\om) \\hat h(\\om).  $$"
   ]
  },
  {
   "cell_type": "code",
   "execution_count": null,
   "metadata": {
    "ExecuteTime": {
     "end_time": "2022-11-15T14:04:04.598964Z",
     "start_time": "2022-11-15T14:04:04.563073Z"
    }
   },
   "outputs": [],
   "source": [
    "cconv = lambda f, h: np.real(pyl.ifft2(pyl.fft2(f)*pyl.fft2(h)))"
   ]
  },
  {
   "cell_type": "markdown",
   "metadata": {},
   "source": [
    "Define a Gaussian blurring kernel of width $\\si$:\n",
    "$$ h_\\si(x) = \\frac{1}{Z} e^{ -\\frac{x_1^2+x_2^2}{2\\si^2} }$$\n",
    "where $Z$ ensure that $\\hat h(0)=1$."
   ]
  },
  {
   "cell_type": "code",
   "execution_count": null,
   "metadata": {
    "ExecuteTime": {
     "end_time": "2022-11-15T14:04:04.891800Z",
     "start_time": "2022-11-15T14:04:04.867986Z"
    }
   },
   "outputs": [],
   "source": [
    "t = np.hstack((np.arange(0,n//2+1),np.arange(-n//2+1,0)))\n",
    "[X2, X1] = np.meshgrid(t, t)\n",
    "normalize = lambda h: h/np.sum(h)\n",
    "h = lambda sigma: normalize(np.exp(-(X1**2 + X2**2)/(2*sigma**2)))"
   ]
  },
  {
   "cell_type": "markdown",
   "metadata": {},
   "source": [
    "Define blurring operator."
   ]
  },
  {
   "cell_type": "code",
   "execution_count": null,
   "metadata": {
    "ExecuteTime": {
     "end_time": "2022-11-15T14:04:07.756498Z",
     "start_time": "2022-11-15T14:04:07.739570Z"
    }
   },
   "outputs": [],
   "source": [
    "blur = lambda f, sigma: cconv(f, h(sigma))"
   ]
  },
  {
   "cell_type": "markdown",
   "metadata": {},
   "source": [
    "__Exercise 1__\n",
    "\n",
    "Test blurring with several blurring size $\\si$."
   ]
  },
  {
   "cell_type": "code",
   "execution_count": null,
   "metadata": {
    "ExecuteTime": {
     "end_time": "2022-11-15T14:04:08.761671Z",
     "start_time": "2022-11-15T14:04:08.057066Z"
    }
   },
   "outputs": [],
   "source": [
    "plt.figure(figsize=(10,10))\n",
    "slist = [1,2,5,10]\n",
    "\n",
    "for i in range(len(slist)):\n",
    "    sigma = slist[i]\n",
    "    imageplot(blur(f0, sigma), \"$\\sigma = $ %i\" %sigma, [2,2,i+1])"
   ]
  },
  {
   "cell_type": "markdown",
   "metadata": {},
   "source": [
    "Gradient Based Edge Detectiors\n",
    "------------------------------\n",
    "The simplest edge detectors only make use of the first order derivatives.\n",
    "\n",
    "\n",
    "For continuous functions, the gradient reads\n",
    "$$ \\nabla f(x) = \\pa{ \\pd{f(x)}{x_1}, \\pd{f(x)}{x_2} } \\in \\RR^2. $$\n",
    "\n",
    "\n",
    "We discretize this differential operator using first order finite\n",
    "differences.\n",
    "$$ (\\nabla f)_i = ( f_{i_1,i_2}-f_{i_1-1,i_2}, f_{i_1,i_2}-f_{i_1,i_2-1} ) \\in \\RR^2. $$\n",
    "Note that for simplity we use periodic boundary conditions.\n",
    "\n",
    "\n",
    "Compute its gradient, using (here decentered) finite differences."
   ]
  },
  {
   "cell_type": "code",
   "execution_count": null,
   "metadata": {
    "ExecuteTime": {
     "end_time": "2022-11-15T14:04:09.400008Z",
     "start_time": "2022-11-15T14:04:09.384405Z"
    }
   },
   "outputs": [],
   "source": [
    "s = np.hstack(([n-1],np.arange(0,n-1)))\n",
    "nabla = lambda f: np.concatenate(((f - f[s,:])[:,:,np.newaxis], (f - f[:,s])[:,:,np.newaxis]), axis=2)"
   ]
  },
  {
   "cell_type": "markdown",
   "metadata": {},
   "source": [
    "One thus has $ \\nabla : \\RR^N \\mapsto \\RR^{N \\times 2}. $"
   ]
  },
  {
   "cell_type": "code",
   "execution_count": null,
   "metadata": {
    "ExecuteTime": {
     "end_time": "2022-11-15T14:04:10.103532Z",
     "start_time": "2022-11-15T14:04:10.080702Z"
    }
   },
   "outputs": [],
   "source": [
    "v = nabla(f0)"
   ]
  },
  {
   "cell_type": "markdown",
   "metadata": {},
   "source": [
    "One can display each of its components."
   ]
  },
  {
   "cell_type": "code",
   "execution_count": null,
   "metadata": {
    "ExecuteTime": {
     "end_time": "2022-11-15T14:04:10.571674Z",
     "start_time": "2022-11-15T14:04:10.451280Z"
    }
   },
   "outputs": [],
   "source": [
    "plt.figure(figsize=(10,10))\n",
    "imageplot(v[:,:,0], \"d/dx\", [1,2,1])\n",
    "imageplot(v[:,:,1], \"d/dy\", [1,2,2])"
   ]
  },
  {
   "cell_type": "markdown",
   "metadata": {},
   "source": [
    "A simple edge detector is simply obtained by obtained the gradient\n",
    "magnitude of a smoothed image.\n",
    "\n",
    "\n",
    "\n",
    "A very simple edge detector is obtained by simply thresholding the\n",
    "gradient magnitude above some $t>0$. The set $\\Ee$ of edges is then\n",
    "$$ \\Ee = \\enscond{x}{ d_\\si(x) \\geq t  } $$\n",
    "where we have defined\n",
    "$$ d_\\si(x) = \\norm{\\nabla f_\\si(x)}, \\qwhereq f_\\si = f_0 \\star h_\\si. $$\n",
    "\n",
    "\n",
    "Compute $d_\\si$ for $\\si=1$."
   ]
  },
  {
   "cell_type": "code",
   "execution_count": null,
   "metadata": {
    "ExecuteTime": {
     "end_time": "2022-11-15T14:04:10.864580Z",
     "start_time": "2022-11-15T14:04:10.816473Z"
    }
   },
   "outputs": [],
   "source": [
    "sigma = 1\n",
    "d = np.sqrt(np.sum(nabla(blur(f0, sigma))**2, 2))"
   ]
  },
  {
   "cell_type": "markdown",
   "metadata": {},
   "source": [
    "Display it."
   ]
  },
  {
   "cell_type": "code",
   "execution_count": null,
   "metadata": {
    "ExecuteTime": {
     "end_time": "2022-11-15T14:04:11.264135Z",
     "start_time": "2022-11-15T14:04:11.182663Z"
    }
   },
   "outputs": [],
   "source": [
    "plt.figure(figsize=(5,5))\n",
    "imageplot(d)"
   ]
  },
  {
   "cell_type": "markdown",
   "metadata": {},
   "source": [
    "__Exercise 2__\n",
    "\n",
    "For $\\si=1$, study the influence of the threshold value $t$."
   ]
  },
  {
   "cell_type": "code",
   "execution_count": null,
   "metadata": {
    "ExecuteTime": {
     "end_time": "2022-11-15T14:04:11.736033Z",
     "start_time": "2022-11-15T14:04:11.572747Z"
    }
   },
   "outputs": [],
   "source": [
    "plt.figure(figsize=(10,10))\n",
    "t_list = np.max(d)*np.array([1./4,1./5,1./10,1./20])\n",
    "\n",
    "for i in range(len(t_list)):\n",
    "    t = t_list[i]\n",
    "    imageplot(d > t, \"t = %.4f\" %t , [2,2,i+1])"
   ]
  },
  {
   "cell_type": "markdown",
   "metadata": {},
   "source": [
    "__Exercise 3__\n",
    "\n",
    "Study the influence of $\\si$."
   ]
  },
  {
   "cell_type": "code",
   "execution_count": null,
   "metadata": {
    "ExecuteTime": {
     "end_time": "2022-11-15T14:04:12.355333Z",
     "start_time": "2022-11-15T14:04:11.957417Z"
    }
   },
   "outputs": [],
   "source": [
    "plt.figure(figsize=(10,10))\n",
    "slist = [1, 2, 4, 6]\n",
    "\n",
    "for i in range(len(slist)):\n",
    "    sigma = slist[i]\n",
    "    d = np.sqrt(np.sum(nabla(blur(f0, sigma))**2, 2))\n",
    "    t = np.max(d)*1./5\n",
    "    imageplot(d > t, \"$\\sigma =$ %.1f\" %sigma , [2,2,i+1])"
   ]
  },
  {
   "cell_type": "markdown",
   "metadata": {},
   "source": [
    "Zero-crossing of the Laplacian\n",
    "------------------------------\n",
    "Defining a Laplacian requires to define a divergence operator.\n",
    "The divergence operator maps vector field to images.\n",
    "For continuous vector fields $v(x) \\in \\RR^2$, it is defined as\n",
    "$$ \\text{div}(v)(x) = \\pd{v_1(x)}{x_1} +  \\pd{v_2(x)}{x_2} \\in \\RR. $$\n",
    "It is minus the adjoint of the gadient, i.e. $\\text{div} = - \\nabla^*$.\n",
    "\n",
    "\n",
    "It is discretized, for $v=(v^1,v^2)$ as\n",
    "$$ \\text{div}(v)_i = v^1_{i_1+1,i_2} + v^2_{i_1,i_2+1}. $$"
   ]
  },
  {
   "cell_type": "code",
   "execution_count": null,
   "metadata": {
    "ExecuteTime": {
     "end_time": "2022-11-15T14:54:10.279550Z",
     "start_time": "2022-11-15T14:54:10.259916Z"
    }
   },
   "outputs": [],
   "source": [
    "def div(v):\n",
    "    v0 = v[:,:,0]\n",
    "    v1 = v[:,:,1]\n",
    "    t = np.hstack((np.arange(1,n),[0]))\n",
    "    return v0[t,:] - v0 + v1[:,t] - v1\n"
   ]
  },
  {
   "cell_type": "markdown",
   "metadata": {},
   "source": [
    "The Laplacian operatore is defined as $\\Delta=\\text{div} \\circ  \\nabla =\n",
    "-\\nabla^* \\circ \\nabla$. It is thus a negative symmetric operator."
   ]
  },
  {
   "cell_type": "code",
   "execution_count": null,
   "metadata": {
    "ExecuteTime": {
     "end_time": "2022-11-15T14:54:10.654535Z",
     "start_time": "2022-11-15T14:54:10.633343Z"
    }
   },
   "outputs": [],
   "source": [
    "delta = lambda f: div(nabla(f))"
   ]
  },
  {
   "cell_type": "markdown",
   "metadata": {},
   "source": [
    "Display $\\Delta f_0$."
   ]
  },
  {
   "cell_type": "code",
   "execution_count": null,
   "metadata": {
    "ExecuteTime": {
     "end_time": "2022-11-15T14:54:10.993495Z",
     "start_time": "2022-11-15T14:54:10.906613Z"
    },
    "scrolled": false
   },
   "outputs": [],
   "source": [
    "plt.figure(figsize=(5,5))\n",
    "imageplot(delta(f0))"
   ]
  },
  {
   "cell_type": "markdown",
   "metadata": {},
   "source": [
    "Check that the relation $ \\norm{\\nabla f} = - \\dotp{\\Delta f}{f}.  $"
   ]
  },
  {
   "cell_type": "code",
   "execution_count": null,
   "metadata": {
    "ExecuteTime": {
     "end_time": "2022-11-15T14:54:11.286996Z",
     "start_time": "2022-11-15T14:54:11.248980Z"
    }
   },
   "outputs": [],
   "source": [
    "dotp = lambda a, b: np.sum(a*b)\n",
    "print(\"Should be 0: %.10f \" %(dotp(nabla(f0), nabla(f0)) + dotp(delta(f0), f0)))"
   ]
  },
  {
   "cell_type": "markdown",
   "metadata": {},
   "source": [
    "The zero crossing of the Laplacian is a well known edge detector.\n",
    "This requires first blurring the image (which is equivalent to blurring\n",
    "the laplacian). The set $\\Ee$ of edges is defined as:\n",
    "$$ \\Ee = \\enscond{x}{ \\Delta f_\\si(x) = 0  }\n",
    "      \\qwhereq f_\\si = f_0 \\star h_\\si . $$\n",
    "\n",
    "\n",
    "It was proposed by Marr and Hildreth:\n",
    "\n",
    "\n",
    "Marr, D. and Hildreth, E.,\n",
    "_Theory of edge detection,_\n",
    "In Proc. of the Royal Society London B, 207:187-217, 1980.\n",
    "\n",
    "\n",
    "Display the zero crossing."
   ]
  },
  {
   "cell_type": "code",
   "execution_count": null,
   "metadata": {
    "ExecuteTime": {
     "end_time": "2022-11-15T14:54:11.742062Z",
     "start_time": "2022-11-15T14:54:11.593603Z"
    }
   },
   "outputs": [],
   "source": [
    "from nt_toolbox.plot_levelset import *\n",
    "sigma = 4\n",
    "plt.figure(figsize=(5,5))\n",
    "plot_levelset(delta(blur(f0, sigma)), 0, f0)"
   ]
  },
  {
   "cell_type": "markdown",
   "metadata": {},
   "source": [
    "__Exercise 4__\n",
    "\n",
    "Study the influence of $\\si$."
   ]
  },
  {
   "cell_type": "code",
   "execution_count": null,
   "metadata": {
    "ExecuteTime": {
     "end_time": "2022-11-15T14:54:12.711039Z",
     "start_time": "2022-11-15T14:54:12.137965Z"
    }
   },
   "outputs": [],
   "source": [
    "plt.figure(figsize=(10,10))\n",
    "slist = [4, 6, 10, 15]\n",
    "\n",
    "for i in range(len(slist)):\n",
    "    sigma = slist[i]\n",
    "    plt.subplot(2,2,i+1)\n",
    "    plot_levelset(delta(blur(f0, sigma)) , 0, f0)\n",
    "    plt.title(\"$\\sigma = $ %i\" %sigma)"
   ]
  },
  {
   "cell_type": "markdown",
   "metadata": {},
   "source": [
    "Hessian Based Edge Detectors\n",
    "----------------------------\n",
    "Zero-crossing of the Laplacian can be shown to\n",
    "return false edges corresponding to local minima\n",
    "of the gradient magnitude. Moreover, this operator gives poor localization at curved edges.\n",
    "\n",
    "\n",
    "In order to improve over this basic detector,\n",
    "more advanced edge detectors make use of the second order derivatives.\n",
    "Several authors have advocated for this choice, in particular:\n",
    "\n",
    "\n",
    "Haralick, R.,\n",
    "_Digital step edges from zero crossing of second directional derivatives,_\n",
    "IEEE Trans. on Pattern Analysis and Machine Intelligence, 6(1):58-68, 1984.\n",
    "\n",
    "\n",
    "Canny, J.,\n",
    "_A computational approach to edge detection,_\n",
    "IEEE Trans. on PAMI, 8(6):679-698, 1986\n",
    "\n",
    "\n",
    "Deriche, R.,\n",
    "_Using Canny's criteria to derive a recursively implemented optimal edge detector_.\n",
    "International Journal of Computer Vision, 1:167-187, 1987.\n",
    "\n",
    "\n",
    "They define the edge locations $\\Ee$ as the zero-crossings of the second-order\n",
    "directional derivative in the gradient direction.\n",
    "$$ \\Ee = \\enscond{x}{  \\dotp{ H(x) \\times g_\\si(x) }{ g_\\si(x) } = 0 }\n",
    "      \\qwhereq g_\\si = \\nabla ( f_0 \\star h_\\si )    $$\n",
    "where $\\times$ is the matrix-vector multiplication.\n",
    "\n",
    "\n",
    "Define centered first order derivatives."
   ]
  },
  {
   "cell_type": "code",
   "execution_count": null,
   "metadata": {
    "ExecuteTime": {
     "end_time": "2022-11-15T14:54:12.905772Z",
     "start_time": "2022-11-15T14:54:12.885855Z"
    }
   },
   "outputs": [],
   "source": [
    "dx = lambda f: (f[s,:] - f[t,:])/2\n",
    "dy = lambda f: np.transpose(dx(np.transpose(f)))"
   ]
  },
  {
   "cell_type": "markdown",
   "metadata": {},
   "source": [
    "Define second order derivatives."
   ]
  },
  {
   "cell_type": "code",
   "execution_count": null,
   "metadata": {
    "ExecuteTime": {
     "end_time": "2022-11-15T14:54:14.036828Z",
     "start_time": "2022-11-15T14:54:14.019985Z"
    }
   },
   "outputs": [],
   "source": [
    "s = np.hstack((np.arange(1,n),[0]))\n",
    "t = np.hstack(([n-1], np.arange(0,n-1)))\n",
    "\n",
    "d2x = lambda f: f[s,:] + f[t,:] -2*f\n",
    "d2y = lambda f: np.transpose(d2x(np.transpose(f)))\n",
    "dxy = lambda f: dy(dx(f))"
   ]
  },
  {
   "cell_type": "markdown",
   "metadata": {},
   "source": [
    "Define Hessian operator."
   ]
  },
  {
   "cell_type": "code",
   "execution_count": null,
   "metadata": {
    "ExecuteTime": {
     "end_time": "2022-11-15T14:54:14.842307Z",
     "start_time": "2022-11-15T14:54:14.828766Z"
    }
   },
   "outputs": [],
   "source": [
    "hessian = lambda f: np.concatenate((d2x(f)[:,:,np.newaxis], dxy(f)[:,:,np.newaxis], d2y(f)[:,:,np.newaxis]), axis=2)"
   ]
  },
  {
   "cell_type": "markdown",
   "metadata": {},
   "source": [
    "Compute $g_\\si = \\nabla (f_0 \\star h_\\si). $"
   ]
  },
  {
   "cell_type": "code",
   "execution_count": null,
   "metadata": {
    "ExecuteTime": {
     "end_time": "2022-11-15T14:54:15.955299Z",
     "start_time": "2022-11-15T14:54:15.914319Z"
    }
   },
   "outputs": [],
   "source": [
    "sigma = 6\n",
    "g = grad(blur(f0, sigma))"
   ]
  },
  {
   "cell_type": "markdown",
   "metadata": {},
   "source": [
    "Compute $h_\\si = H (f_0 \\star h_\\si). $"
   ]
  },
  {
   "cell_type": "code",
   "execution_count": null,
   "metadata": {
    "ExecuteTime": {
     "end_time": "2022-11-15T14:54:17.071083Z",
     "start_time": "2022-11-15T14:54:17.019629Z"
    }
   },
   "outputs": [],
   "source": [
    "H = hessian(blur(f0, sigma))"
   ]
  },
  {
   "cell_type": "markdown",
   "metadata": {},
   "source": [
    "Compute $ a_\\si(x) = h_\\si(x) \\times g_\\si (x) $\n",
    "(this is a matrix times vector operation)."
   ]
  },
  {
   "cell_type": "code",
   "execution_count": null,
   "metadata": {
    "ExecuteTime": {
     "end_time": "2022-11-15T14:54:21.858446Z",
     "start_time": "2022-11-15T14:54:21.833747Z"
    }
   },
   "outputs": [],
   "source": [
    "a = H[:,:,0:2] * np.repeat(g[:,:,0][:,:,np.newaxis],2,axis=2) + H[:,:,1:3] * np.repeat(g[:,:,1][:,:,np.newaxis],2,axis=2)"
   ]
  },
  {
   "cell_type": "markdown",
   "metadata": {},
   "source": [
    "Display the level set of $\\dotp{a_\\si(x)}{g_\\si(x)}$."
   ]
  },
  {
   "cell_type": "code",
   "execution_count": null,
   "metadata": {
    "ExecuteTime": {
     "end_time": "2022-11-15T14:54:22.717853Z",
     "start_time": "2022-11-15T14:54:22.602844Z"
    }
   },
   "outputs": [],
   "source": [
    "plt.figure(figsize=(5,5))\n",
    "plot_levelset(np.sum(a*g, 2), 0, f0)"
   ]
  },
  {
   "cell_type": "markdown",
   "metadata": {},
   "source": [
    "__Exercise 5__\n",
    "\n",
    "Study the influence of $\\si$."
   ]
  },
  {
   "cell_type": "code",
   "execution_count": null,
   "metadata": {
    "ExecuteTime": {
     "end_time": "2022-11-15T14:54:27.298066Z",
     "start_time": "2022-11-15T14:54:26.725063Z"
    }
   },
   "outputs": [],
   "source": [
    "plt.figure(figsize=(10,10))\n",
    "slist = [4, 6, 10, 15]\n",
    "\n",
    "for i in range(len(slist)):\n",
    "    sigma = slist[i]\n",
    "     \n",
    "    g = grad(blur(f0, sigma))\n",
    "    H = hessian(blur(f0, sigma))\n",
    "    a = H[:,:,0:2] * np.repeat(g[:,:,0][:,:,np.newaxis],2,axis=2) + H[:,:,1:3] * np.repeat(g[:,:,1][:,:,np.newaxis],2,axis=2)\n",
    "    \n",
    "    plt.subplot(2,2,i+1)\n",
    "    plot_levelset(np.sum(a*g,2), 0, f0)\n",
    "    plt.title(\"$\\sigma = $ %i\" %sigma)"
   ]
  },
  {
   "cell_type": "markdown",
   "metadata": {},
   "source": [
    "# Adding some noise on the image"
   ]
  },
  {
   "cell_type": "code",
   "execution_count": null,
   "metadata": {
    "ExecuteTime": {
     "end_time": "2022-11-15T14:06:27.366819Z",
     "start_time": "2022-11-15T14:06:27.347948Z"
    }
   },
   "outputs": [],
   "source": [
    "f0_noise = f0+np.random.random(np.shape(f0))"
   ]
  },
  {
   "cell_type": "code",
   "execution_count": null,
   "metadata": {
    "ExecuteTime": {
     "end_time": "2022-11-15T14:07:12.710180Z",
     "start_time": "2022-11-15T14:07:12.602116Z"
    }
   },
   "outputs": [],
   "source": [
    "plt.figure(figsize=(5,5))\n",
    "imageplot(f0_noise)\n",
    "plt.show()"
   ]
  },
  {
   "cell_type": "markdown",
   "metadata": {},
   "source": [
    "### Gradient edge detection"
   ]
  },
  {
   "cell_type": "code",
   "execution_count": null,
   "metadata": {
    "ExecuteTime": {
     "end_time": "2022-11-15T14:07:56.577176Z",
     "start_time": "2022-11-15T14:07:55.814356Z"
    }
   },
   "outputs": [],
   "source": [
    "v = nabla(f0_noise)\n",
    "plt.figure(figsize=(10,10))\n",
    "imageplot(v[:,:,0], \"d/dx\", [1,2,1])\n",
    "imageplot(v[:,:,1], \"d/dy\", [1,2,2])"
   ]
  },
  {
   "cell_type": "markdown",
   "metadata": {},
   "source": [
    "The edges can't be detected by the gradient method seems difficult to use"
   ]
  },
  {
   "cell_type": "code",
   "execution_count": null,
   "metadata": {
    "ExecuteTime": {
     "end_time": "2022-11-15T14:09:22.145756Z",
     "start_time": "2022-11-15T14:09:21.602920Z"
    }
   },
   "outputs": [],
   "source": [
    "sigma = 1\n",
    "d = np.sqrt(np.sum(nabla(blur(f0_noise, sigma))**2, 2))\n",
    "plt.figure(figsize=(5,5))\n",
    "imageplot(d)"
   ]
  },
  {
   "cell_type": "code",
   "execution_count": null,
   "metadata": {
    "ExecuteTime": {
     "end_time": "2022-11-15T14:11:26.103025Z",
     "start_time": "2022-11-15T14:11:25.920685Z"
    }
   },
   "outputs": [],
   "source": [
    "plt.figure(figsize=(10,10))\n",
    "t_list = np.max(d)*np.array([1./2,1./4,1./5,1./10])\n",
    "\n",
    "for i in range(len(t_list)):\n",
    "    t = t_list[i]\n",
    "    imageplot(d > t, \"t = %.4f\" %t , [2,2,i+1])"
   ]
  },
  {
   "cell_type": "markdown",
   "metadata": {},
   "source": [
    "### Laplacian method"
   ]
  },
  {
   "cell_type": "code",
   "execution_count": null,
   "metadata": {
    "ExecuteTime": {
     "end_time": "2022-11-15T14:46:30.582882Z",
     "start_time": "2022-11-15T14:46:30.363111Z"
    }
   },
   "outputs": [],
   "source": [
    "plt.figure(figsize=(5,5))\n",
    "imageplot(delta(f0_noise),'Laplacian',[1,2,1])\n",
    "imageplot(f0,'Originale',[1,2,2])\n",
    "sigma = 6\n",
    "plt.figure(figsize=(5,5))\n",
    "plot_levelset(delta(blur(f0_noise, sigma)), 0, f0_noise)"
   ]
  },
  {
   "cell_type": "markdown",
   "metadata": {},
   "source": [
    "### Hessian approach"
   ]
  },
  {
   "cell_type": "code",
   "execution_count": null,
   "metadata": {
    "ExecuteTime": {
     "end_time": "2022-11-15T14:54:35.521455Z",
     "start_time": "2022-11-15T14:54:34.806710Z"
    }
   },
   "outputs": [],
   "source": [
    "s = np.hstack((np.arange(1,n),[0]))\n",
    "t = np.hstack(([n-1], np.arange(0,n-1)))\n",
    "\n",
    "plt.figure(figsize=(10,10))\n",
    "slist = [4, 6, 10, 15]\n",
    "\n",
    "for i in range(len(slist)):\n",
    "    sigma = slist[i]\n",
    "     \n",
    "    g = grad(blur(f0_noise, sigma))\n",
    "    H = hessian(blur(f0_noise, sigma))\n",
    "    a = H[:,:,0:2] * np.repeat(g[:,:,0][:,:,np.newaxis],2,axis=2) + H[:,:,1:3] * np.repeat(g[:,:,1][:,:,np.newaxis],2,axis=2)\n",
    "    \n",
    "    plt.subplot(2,2,i+1)\n",
    "    plot_levelset(np.sum(a*g,2), 0, f0_noise)\n",
    "    plt.title(\"$\\sigma = $ %i\" %sigma)"
   ]
  },
  {
   "cell_type": "markdown",
   "metadata": {},
   "source": [
    "### Method : interpolation of the gradient"
   ]
  },
  {
   "cell_type": "code",
   "execution_count": null,
   "metadata": {
    "ExecuteTime": {
     "end_time": "2022-11-15T14:59:58.508264Z",
     "start_time": "2022-11-15T14:59:58.075686Z"
    }
   },
   "outputs": [],
   "source": [
    "def interpolation(array,x,y):\n",
    "    s = array.shape\n",
    "    i = math.floor(x)\n",
    "    j = math.floor(y)\n",
    "    t = x-i\n",
    "    u = y-j\n",
    "    u1 = 1.0-u\n",
    "    t1 = 1.0-t\n",
    "    if j==s[0]-1:\n",
    "        if i==s[1]-1:\n",
    "            return array[j][i]\n",
    "        return t*array[j][i]+t1*array[j+1][i]\n",
    "    if i==s[1]-1:\n",
    "        return u*array[j][i]+u1*array[j][i+1]\n",
    "    return t1*u1*array[j][i]+t*u1*array[j][i+1]+\\\n",
    "           t*u*array[j+1][i+1]+t1*u*array[j+1][i]\n"
   ]
  },
  {
   "cell_type": "markdown",
   "metadata": {},
   "source": [
    "La valeur de la norme du gradient G aux points M1 et M2 est calculée par interpolation bilinéaire à partir des 4 pixels voisins. Le pixel (i,j) est retenu si son gradient est supérieur à ceux des points M1 et M2. Dans le cas contraire, le pixel est éliminé. On élimine donc ainsi les pixels qui ne sont pas sur un maximum du gradient (maximum le long de la normale)."
   ]
  },
  {
   "cell_type": "code",
   "execution_count": null,
   "metadata": {
    "ExecuteTime": {
     "end_time": "2022-11-15T15:21:22.208852Z",
     "start_time": "2022-11-15T15:21:22.071032Z"
    }
   },
   "outputs": [],
   "source": [
    "sigma = 3\n",
    "G = np.sqrt(np.sum(nabla(blur(f0_noise, sigma))**2, 2))\n",
    "Gmax = G.copy()\n",
    "\n",
    "for i in range(1,s[1]-1):\n",
    "    for j in range(1,s[0]-1):\n",
    "        if G[j][i]!=0:\n",
    "            cos = math.cos(theta[j][i])\n",
    "            sin = math.sin(theta[j][i])\n",
    "            g1 = interpolation(G,i+cos,j+sin)\n",
    "            g2 = interpolation(G,i-cos,j-sin)\n",
    "            if (G[j][i]<g1) or (G[j][i]<g2):\n",
    "                Gmax[j][i] = 0.0\n",
    "                \n",
    "plt.figure(figsize=(6,6))\n",
    "imageplot(Gmax) #,cmap=cm.gray)"
   ]
  },
  {
   "cell_type": "code",
   "execution_count": null,
   "metadata": {
    "ExecuteTime": {
     "end_time": "2022-11-15T15:24:53.260036Z",
     "start_time": "2022-11-15T15:24:52.137615Z"
    }
   },
   "outputs": [],
   "source": [
    "plt.figure(figsize=(10,10))\n",
    "slist = [0.015,0.025,0.035,0.045]\n",
    "a,b = np.shape(Gmax)\n",
    "\n",
    "for i in range(len(slist)):\n",
    "    Gfinal = Gmax.copy()\n",
    "    seuil = slist[i]\n",
    "    for j in range(a):\n",
    "        for k in range(b):\n",
    "            if Gfinal[j][k]<seuil:\n",
    "                Gfinal[j][k] = 0.0\n",
    "            else:\n",
    "                Gfinal[j][k] = 1.0\n",
    "        \n",
    "    plt.subplot(2,2,i+1)\n",
    "    plot_levelset(Gfinal, 0, f0_noise)\n",
    "    plt.title(f\"seuil = {seuil}\")"
   ]
  },
  {
   "cell_type": "markdown",
   "metadata": {},
   "source": [
    "# Canny"
   ]
  },
  {
   "cell_type": "code",
   "execution_count": null,
   "metadata": {},
   "outputs": [],
   "source": [
    "import cv2\n",
    "import numpy as np\n",
    "import matplotlib.pyplot as plt"
   ]
  },
  {
   "cell_type": "code",
   "execution_count": null,
   "metadata": {},
   "outputs": [],
   "source": [
    "def canny_edge_detection(image, sigma=0.33):\n",
    "    # Gaussian blur\n",
    "    image = cv2.GaussianBlur(image, (3, 3), 0)\n",
    "    # Gradient calculation\n",
    "    sobelx = cv2.Sobel(image, cv2.CV_64F, 1, 0, ksize=5)\n",
    "    sobely = cv2.Sobel(image, cv2.CV_64F, 0, 1, ksize=5)\n",
    "\n",
    "    # Magnitude and direction of the gradient\n",
    "    magnitude, direction = cv2.cartToPolar(sobelx, sobely, angleInDegrees=True)\n",
    "\n",
    "    # Non-maximum suppression\n",
    "    NMS = np.zeros_like(magnitude)\n",
    "    for i in range(1, magnitude.shape[0]-1):\n",
    "        for j in range(1, magnitude.shape[1]-1):\n",
    "            angle = direction[i, j]\n",
    "            if (0 <= angle < 22.5) or (157.5 <= angle <= 180):\n",
    "                if (magnitude[i, j] > magnitude[i, j-1]) and (magnitude[i, j] > magnitude[i, j+1]):\n",
    "                    NMS[i, j] = magnitude[i, j]\n",
    "            elif (22.5 <= angle < 67.5):\n",
    "                if (magnitude[i, j] > magnitude[i-1, j+1]) and (magnitude[i, j] > magnitude[i+1, j-1]):\n",
    "                    NMS[i, j] = magnitude[i, j]\n",
    "            elif (67.5 <= angle < 112.5):\n",
    "                if (magnitude[i, j] > magnitude[i-1, j]) and (magnitude[i, j] > magnitude[i+1, j]):\n",
    "                    NMS[i, j] = magnitude[i, j]\n",
    "            else:\n",
    "                if (magnitude[i, j] > magnitude[i+1, j+1]) and (magnitude[i, j] > magnitude[i-1, j-1]):\n",
    "                    NMS[i, j] = magnitude[i, j]\n",
    "                    \n",
    "    # Double thresholding\n",
    "    low_threshold, high_threshold = np.percentile(NMS, (100*sigma, 100*(1-sigma)))\n",
    "    edges = np.zeros_like(magnitude)\n",
    "    edges[NMS > high_threshold] = 1\n",
    "    edges[NMS < low_threshold] = 0\n",
    "    weak_edges = (NMS > low_threshold) & (NMS < high_threshold)\n",
    "    edges[weak_edges] = 1\n",
    "\n",
    "    for i in range(1, edges.shape[0]-1):\n",
    "        for j in range(1, edges.shape[1]-1):\n",
    "            if edges[i, j]:\n",
    "                if ((edges[i-1, j-1:j+2] == 1).any() or\n",
    "                    (edges[i+1, j-1:j+2] == 1).any() or\n",
    "                    (edges[i, [j-1, j+1]] == 1).any()):\n",
    "                    continue\n",
    "                else:\n",
    "                    edges[i, j] = 0\n",
    "    return edges"
   ]
  },
  {
   "cell_type": "code",
   "execution_count": null,
   "metadata": {},
   "outputs": [],
   "source": [
    "image = cv2.imread(\"cortex.bmp\", cv2.IMREAD_GRAYSCALE)\n",
    "edges = canny_edge_detection(image, sigma = 0.95)\n",
    "plt.imshow(edges, cmap='gray')\n",
    "plt.show()"
   ]
  },
  {
   "cell_type": "markdown",
   "metadata": {},
   "source": [
    "# Hough transform"
   ]
  },
  {
   "cell_type": "markdown",
   "metadata": {},
   "source": [
    "La méthode de Hough repose sur l'utilisation d'un accumulateur dans le plan (a,b). L'accumulateur est une matrice qui correspond à un domaine rectangulaire du plan (a,b). Pour chaque pixel M(x,y) de l'image, la droite d'équation ax+by+1=0 est tracée sur l'accumulateur : plus précisément, chaque pixel rencontré est incrémenté d'une unité. Lorsque tous les points de l'image sont traités, les éléments de l'accumulateur les plus peuplés correspondent à des droites détectées.\n",
    "\n",
    "Le paramétrage des droites par les coefficients (a,b) n'est toutefois pas adapté à cette méthode, car les valeurs possibles de a et b ne sont pas bornées. Il est pratiquement impossible, avec un échantillonnage périodique, de couvrir à la fois les petites, les moyennes et les grandes valeurs de ces coefficients. Pour cette raison, Hough a utilisé le paramétrage suivant des droites, utilisant les coordonnées polaires :\n",
    "\n",
    "$$\\rho = x cos(\\theta) + y sin(\\theta)$$\n",
    "\n",
    "Avec $\\rho \\in [0,\\sqrt{N_x^2+N_y^2} ]$ et $\\theta \\in [0,\\pi]$\n",
    "\n",
    "Lorsque tous les points de l'image ont été traités, on sélectionne les éléments de l'accumulateur remplis au dessus d'un certain seuil, qui sont alors interprétés comme les paramètres de droites correspondant à des lignes droites sur l'image."
   ]
  },
  {
   "cell_type": "code",
   "execution_count": null,
   "metadata": {},
   "outputs": [],
   "source": [
    "image = cv.imread(\"PistePhotoSeuil.png\")\n",
    "gray = cv.cvtColor(image, cv.COLOR_BGR2GRAY)\n",
    "\n",
    "# filtre de Canny : détection de bords\n",
    "edges = cv.Canny(gray, 50, 150, apertureSize = 3)\n",
    "\n",
    "# transformée de Hough\n",
    "lines = cv.HoughLines(edges, 1, np.pi/180, 100) # derniere valeur :  seuil de détection de lignes ajustable pour régler la sensibilité de la détection de lignes\n",
    "\n",
    "# affichage des lignes\n",
    "for line in lines:\n",
    "    rho, theta = line[0]\n",
    "    a = np.cos(theta)\n",
    "    b = np.sin(theta)\n",
    "    x0 = a * rho\n",
    "    y0 = b * rho\n",
    "    x1 = int(x0 + 1000 * (-b))\n",
    "    y1 = int(y0 + 1000 * (a))\n",
    "    x2 = int(x0 - 1000 * (-b))\n",
    "    y2 = int(y0 - 1000 * (a))\n",
    "    cv.line(image, (x1, y1), (x2, y2), (0, 0, 255), 2)\n",
    "\n",
    "plt.imshow(image)\n",
    "plt.show()"
   ]
  },
  {
   "cell_type": "code",
   "execution_count": null,
   "metadata": {
    "scrolled": false
   },
   "outputs": [],
   "source": [
    "image = cv.imread('petri.jpg',0)\n",
    "image = cv.medianBlur(image, 5)\n",
    "image_circles = cv.cvtColor(image,cv.COLOR_GRAY2BGR)\n",
    "circles = cv.HoughCircles(image,cv.HOUGH_GRADIENT,1,100,param1=50,param2=30,minRadius=10,maxRadius=20)\n",
    "circles = np.uint16(np.around(circles))\n",
    "for i in circles[0,:]:\n",
    "    cv.circle(image_circles,(i[0],i[1]),i[2],(0,255,0),2)\n",
    "    cv.circle(image_circles,(i[0],i[1]),2,(0,0,255),3)\n",
    "\n",
    "plt.imshow(image_circles)\n",
    "plt.show()"
   ]
  },
  {
   "cell_type": "code",
   "execution_count": null,
   "metadata": {},
   "outputs": [],
   "source": [
    "image = cv.imread('petri.jpg',0)\n",
    "image = cv.medianBlur(image, 15)\n",
    "image_circles = cv.cvtColor(image,cv.COLOR_GRAY2BGR)\n",
    "circles = cv.HoughCircles(image,cv.HOUGH_GRADIENT,1,100,param1=50,param2=30,minRadius=30,maxRadius=100)\n",
    "circles = np.uint16(np.around(circles))\n",
    "for i in circles[0,:]:\n",
    "    cv.circle(image_circles,(i[0],i[1]),i[2],(0,255,0),2)\n",
    "    cv.circle(image_circles,(i[0],i[1]),2,(0,0,255),3)\n",
    "\n",
    "plt.imshow(image_circles)\n",
    "plt.show()"
   ]
  },
  {
   "cell_type": "code",
   "execution_count": null,
   "metadata": {
    "scrolled": false
   },
   "outputs": [],
   "source": [
    " for dp in range(1,6):\n",
    "    image = cv.imread('petri.jpg',0)\n",
    "    image = cv.medianBlur(image, 15)\n",
    "    image_circles = cv.cvtColor(image,cv.COLOR_GRAY2BGR)\n",
    "    circles = cv.HoughCircles(image,cv.HOUGH_GRADIENT,dp,150,param1=50,param2=30,minRadius=30,maxRadius=100)\n",
    "    circles = np.uint16(np.around(circles))\n",
    "    for i in circles[0,:]:\n",
    "        cv.circle(image_circles,(i[0],i[1]),i[2],(0,255,0),2)\n",
    "        cv.circle(image_circles,(i[0],i[1]),2,(0,0,255),3)\n",
    "\n",
    "    plt.imshow(image_circles)\n",
    "    plt.show()"
   ]
  },
  {
   "cell_type": "code",
   "execution_count": null,
   "metadata": {},
   "outputs": [],
   "source": []
  },
  {
   "cell_type": "code",
   "execution_count": null,
   "metadata": {},
   "outputs": [],
   "source": []
  }
 ],
 "metadata": {
  "anaconda-cloud": {},
  "kernelspec": {
   "display_name": "Python 3 (ipykernel)",
   "language": "python",
   "name": "python3"
  },
  "language_info": {
   "codemirror_mode": {
    "name": "ipython",
    "version": 3
   },
   "file_extension": ".py",
   "mimetype": "text/x-python",
   "name": "python",
   "nbconvert_exporter": "python",
   "pygments_lexer": "ipython3",
   "version": "3.9.12"
  },
  "toc": {
   "base_numbering": 1,
   "nav_menu": {},
   "number_sections": true,
   "sideBar": true,
   "skip_h1_title": false,
   "title_cell": "Table of Contents",
   "title_sidebar": "Contents",
   "toc_cell": false,
   "toc_position": {},
   "toc_section_display": true,
   "toc_window_display": false
  },
  "varInspector": {
   "cols": {
    "lenName": 16,
    "lenType": 16,
    "lenVar": 40
   },
   "kernels_config": {
    "python": {
     "delete_cmd_postfix": "",
     "delete_cmd_prefix": "del ",
     "library": "var_list.py",
     "varRefreshCmd": "print(var_dic_list())"
    },
    "r": {
     "delete_cmd_postfix": ") ",
     "delete_cmd_prefix": "rm(",
     "library": "var_list.r",
     "varRefreshCmd": "cat(var_dic_list()) "
    }
   },
   "types_to_exclude": [
    "module",
    "function",
    "builtin_function_or_method",
    "instance",
    "_Feature"
   ],
   "window_display": false
  }
 },
 "nbformat": 4,
 "nbformat_minor": 1
}
